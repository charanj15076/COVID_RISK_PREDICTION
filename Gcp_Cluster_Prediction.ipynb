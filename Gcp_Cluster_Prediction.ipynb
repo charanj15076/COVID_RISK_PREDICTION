{
 "cells": [
  {
   "cell_type": "code",
   "execution_count": 1,
   "id": "477334b3-4f42-46c2-84f6-b24f74225996",
   "metadata": {},
   "outputs": [
    {
     "name": "stderr",
     "output_type": "stream",
     "text": [
      "                                                                                \r"
     ]
    },
    {
     "name": "stdout",
     "output_type": "stream",
     "text": [
      "+-------------+----------+-----+------------+---+------------+---------+---+--------+--------+----+------+-------+------------+-------------+--------------+-------+-------------+-------+--------------------+-----+\n",
      "|int64_field_0|Unnamed__0|USMER|MEDICAL_UNIT|SEX|PATIENT_TYPE|PNEUMONIA|AGE|PREGNANT|DIABETES|COPD|ASTHMA|INMSUPR|HIPERTENSION|OTHER_DISEASE|CARDIOVASCULAR|OBESITY|RENAL_CHRONIC|TOBACCO|CLASIFFICATION_FINAL|DEATH|\n",
      "+-------------+----------+-----+------------+---+------------+---------+---+--------+--------+----+------+-------+------------+-------------+--------------+-------+-------------+-------+--------------------+-----+\n",
      "|           48|        48|    0|           1|  1|           1|        0| 25|       0|       0|   0|     1|      0|           0|            0|             0|      0|            0|      0|                   7|    0|\n",
      "|       297183|    297183|    0|           1|  1|           1|        0| 27|       0|       0|   0|     0|      0|           0|            0|             0|      0|            0|      0|                   7|    0|\n",
      "|        80281|     80281|    0|           1|  0|           0|        0| 30|       0|       0|   0|     0|      0|           0|            0|             0|      0|            0|      0|                   3|    0|\n",
      "|          143|       143|    0|           1|  0|           1|        0| 30|       0|       0|   0|     0|      0|           0|            0|             0|      0|            0|      1|                   7|    0|\n",
      "|           92|        92|    0|           1|  0|           1|        0| 38|       0|       0|   0|     0|      0|           0|            0|             0|      0|            0|      0|                   7|    0|\n",
      "|           37|        37|    0|           1|  1|           1|        0| 56|       0|       0|   0|     0|      0|           0|            0|             1|      1|            0|      0|                   3|    0|\n",
      "|        35695|     35695|    0|           1|  1|           1|        0| 57|       0|       1|   0|     0|      0|           0|            0|             0|      0|            0|      0|                   3|    0|\n",
      "|          194|       204|    1|           2|  1|           0|        1|  0|       0|       0|   0|     0|      0|           0|            0|             0|      0|            0|      0|                   7|    0|\n",
      "|          164|       165|    1|           2|  0|           1|        0|  2|       0|       0|   0|     0|      0|           0|            0|             0|      0|            0|      0|                   3|    0|\n",
      "|          170|       173|    1|           2|  1|           1|        0|  6|       0|       0|   0|     0|      0|           0|            0|             0|      0|            0|      0|                   6|    0|\n",
      "+-------------+----------+-----+------------+---+------------+---------+---+--------+--------+----+------+-------+------------+-------------+--------------+-------+-------------+-------+--------------------+-----+\n",
      "only showing top 10 rows\n",
      "\n"
     ]
    }
   ],
   "source": [
    "from pyspark.sql import SparkSession\n",
    "from pyspark.sql.functions import flatten, udf, col\n",
    "from pyspark.sql.types import BooleanType\n",
    "bucket = 'covidbucket531'\n",
    "spark = SparkSession.builder\\\n",
    "    .appName(\"covid_project\")\\\n",
    "    .config(\"spark.jars\", \"gs://spark-lib/bigquery/spark-bigquery-latest.jar\")\\\n",
    "    .master('yarn')\\\n",
    "    .getOrCreate()\n",
    "\n",
    "df = spark.read \\\n",
    "    .format(\"bigquery\") \\\n",
    "    .load('charanfinalproject1.data531.covid')\n",
    "df.show(10)"
   ]
  },
  {
   "cell_type": "code",
   "execution_count": null,
   "id": "5fcf7c1a-d082-4999-9bbd-0ec87104e3ba",
   "metadata": {},
   "outputs": [],
   "source": []
  },
  {
   "cell_type": "code",
   "execution_count": 2,
   "id": "b3e6b5f4-4bde-4ea5-9be4-4d7e1bd291d6",
   "metadata": {},
   "outputs": [],
   "source": [
    "Data  =df"
   ]
  },
  {
   "cell_type": "code",
   "execution_count": 3,
   "id": "46c26ba3-feb5-41c8-a276-348e5179b46d",
   "metadata": {},
   "outputs": [],
   "source": [
    "from pyspark.sql.types import IntegerType,FloatType\n",
    "Data2 = df.withColumn(\"USMER\", Data[\"USMER\"].cast(IntegerType()))\\\n",
    "            .withColumn(\"MEDICAL_UNIT\", Data[\"MEDICAL_UNIT\"].cast(IntegerType()))\\\n",
    "            .withColumn(\"SEX\", Data[\"SEX\"].cast(IntegerType()))\\\n",
    "            .withColumn(\"PATIENT_TYPE\", Data[\"PATIENT_TYPE\"].cast(IntegerType()))\\\n",
    "            .withColumn(\"PNEUMONIA\", Data[\"PNEUMONIA\"].cast(IntegerType()))\\\n",
    "            .withColumn(\"AGE\", Data[\"AGE\"].cast(IntegerType()))\\\n",
    "            .withColumn(\"PREGNANT\", Data[\"PREGNANT\"].cast(IntegerType()))\\\n",
    "            .withColumn(\"DIABETES\", Data[\"DIABETES\"].cast(IntegerType()))\\\n",
    "            .withColumn(\"COPD\", Data[\"COPD\"].cast(IntegerType()))\\\n",
    "            .withColumn(\"ASTHMA\", Data[\"ASTHMA\"].cast(IntegerType()))\\\n",
    "            .withColumn(\"INMSUPR\", Data[\"INMSUPR\"].cast(IntegerType()))\\\n",
    "            .withColumn(\"HIPERTENSION\", Data[\"HIPERTENSION\"].cast(IntegerType()))\\\n",
    "            .withColumn(\"OTHER_DISEASE\", Data[\"OTHER_DISEASE\"].cast(IntegerType()))\\\n",
    "            .withColumn(\"CARDIOVASCULAR\", Data[\"CARDIOVASCULAR\"].cast(IntegerType()))\\\n",
    "            .withColumn(\"OBESITY\", Data[\"OBESITY\"].cast(IntegerType()))\\\n",
    "            .withColumn(\"RENAL_CHRONIC\", Data[\"RENAL_CHRONIC\"].cast(IntegerType()))\\\n",
    "            .withColumn(\"TOBACCO\", Data[\"TOBACCO\"].cast(IntegerType()))\\\n",
    "            .withColumn(\"CLASIFFICATION_FINAL\", Data[\"CLASIFFICATION_FINAL\"].cast(IntegerType()))\\\n",
    "            .withColumn(\"DEATH\", Data[\"DEATH\"].cast(IntegerType()))\n"
   ]
  },
  {
   "cell_type": "code",
   "execution_count": 4,
   "id": "538334d6-edab-4ee3-b787-3ca6568bed41",
   "metadata": {},
   "outputs": [],
   "source": [
    "Data3 = Data2.drop(\"int64_field_0\") "
   ]
  },
  {
   "cell_type": "code",
   "execution_count": 5,
   "id": "a3ad6bf1-13ed-4c89-9afa-c8db6a9b63a0",
   "metadata": {},
   "outputs": [],
   "source": [
    "Data4 = Data3.drop(\"Unnamed__0\") "
   ]
  },
  {
   "cell_type": "code",
   "execution_count": 6,
   "id": "3355d2c7-5c3b-4dae-acc3-cb5ca34f89a0",
   "metadata": {},
   "outputs": [
    {
     "name": "stdout",
     "output_type": "stream",
     "text": [
      "root\n",
      " |-- USMER: integer (nullable = true)\n",
      " |-- MEDICAL_UNIT: integer (nullable = true)\n",
      " |-- SEX: integer (nullable = true)\n",
      " |-- PATIENT_TYPE: integer (nullable = true)\n",
      " |-- PNEUMONIA: integer (nullable = true)\n",
      " |-- AGE: integer (nullable = true)\n",
      " |-- PREGNANT: integer (nullable = true)\n",
      " |-- DIABETES: integer (nullable = true)\n",
      " |-- COPD: integer (nullable = true)\n",
      " |-- ASTHMA: integer (nullable = true)\n",
      " |-- INMSUPR: integer (nullable = true)\n",
      " |-- HIPERTENSION: integer (nullable = true)\n",
      " |-- OTHER_DISEASE: integer (nullable = true)\n",
      " |-- CARDIOVASCULAR: integer (nullable = true)\n",
      " |-- OBESITY: integer (nullable = true)\n",
      " |-- RENAL_CHRONIC: integer (nullable = true)\n",
      " |-- TOBACCO: integer (nullable = true)\n",
      " |-- CLASIFFICATION_FINAL: integer (nullable = true)\n",
      " |-- DEATH: integer (nullable = true)\n",
      "\n"
     ]
    }
   ],
   "source": [
    "Data4.printSchema()"
   ]
  },
  {
   "cell_type": "code",
   "execution_count": 7,
   "id": "f643da60-7eed-4360-822c-ec7b6ab38060",
   "metadata": {},
   "outputs": [],
   "source": [
    "required_features = [\n",
    "                    'USMER',\n",
    "                    'MEDICAL_UNIT',\n",
    "                    'SEX',\n",
    "                    'PATIENT_TYPE',\n",
    "                     'PNEUMONIA',\n",
    "                     'AGE',\n",
    "                     'PREGNANT',\n",
    "                     'DIABETES',\n",
    "                     'COPD',\n",
    "                     'ASTHMA',\n",
    "                     'INMSUPR',\n",
    "                     'HIPERTENSION',\n",
    "                     'OTHER_DISEASE',\n",
    "                     'CARDIOVASCULAR',\n",
    "                     'RENAL_CHRONIC',\n",
    "                     'TOBACCO',\n",
    "                     'CLASIFFICATION_FINAL',\n",
    "                     'DEATH'\n",
    "                   ]"
   ]
  },
  {
   "cell_type": "code",
   "execution_count": 8,
   "id": "d91dd91b-de9d-4b80-88aa-960c402484b7",
   "metadata": {},
   "outputs": [],
   "source": [
    "from pyspark.ml.feature import VectorAssembler\n",
    "assembler = VectorAssembler(inputCols=required_features, outputCol='features')\n",
    "transformed_data = assembler.transform(Data4)"
   ]
  },
  {
   "cell_type": "code",
   "execution_count": 9,
   "id": "df49532e-5c9d-4443-9fca-ccc2a2d2517e",
   "metadata": {},
   "outputs": [],
   "source": [
    "(training_data, test_data) = transformed_data.randomSplit([0.8,0.2])"
   ]
  },
  {
   "cell_type": "code",
   "execution_count": null,
   "id": "d66dc5a4-4226-49ce-83e3-650f97b2adcb",
   "metadata": {},
   "outputs": [],
   "source": []
  },
  {
   "cell_type": "code",
   "execution_count": 10,
   "id": "de5bff3d-cf6e-49e8-a903-c49fb0a4d777",
   "metadata": {},
   "outputs": [
    {
     "name": "stderr",
     "output_type": "stream",
     "text": [
      "23/05/03 23:02:21 WARN com.github.fommil.netlib.BLAS: Failed to load implementation from: com.github.fommil.netlib.NativeSystemBLAS\n",
      "23/05/03 23:02:21 WARN com.github.fommil.netlib.BLAS: Failed to load implementation from: com.github.fommil.netlib.NativeRefBLAS\n",
      "                                                                                \r"
     ]
    }
   ],
   "source": [
    "from pyspark.ml.classification import LogisticRegression\n",
    "\n",
    "lr = LogisticRegression(featuresCol = 'features' , labelCol = 'DEATH', maxIter=5)\n",
    "lrModel = lr.fit(training_data)"
   ]
  },
  {
   "cell_type": "code",
   "execution_count": 11,
   "id": "d983a3e4-741d-49e2-a8c8-c395f30d91ab",
   "metadata": {},
   "outputs": [],
   "source": [
    "rf_predictions = lrModel.transform(test_data)"
   ]
  },
  {
   "cell_type": "code",
   "execution_count": 12,
   "id": "3561d47d-4527-4642-859f-cfe264440da5",
   "metadata": {},
   "outputs": [
    {
     "name": "stderr",
     "output_type": "stream",
     "text": [
      "[Stage 17:===================================================>      (8 + 1) / 9]\r"
     ]
    },
    {
     "name": "stdout",
     "output_type": "stream",
     "text": [
      "Logistic Regression Accuracy: 0.9772444727883738\n"
     ]
    },
    {
     "name": "stderr",
     "output_type": "stream",
     "text": [
      "                                                                                \r"
     ]
    }
   ],
   "source": [
    "from pyspark.ml.evaluation import MulticlassClassificationEvaluator\n",
    "\n",
    "multi_evaluator = MulticlassClassificationEvaluator(labelCol = 'DEATH', metricName = 'accuracy')\n",
    "print('Logistic Regression Accuracy:', multi_evaluator.evaluate(rf_predictions))"
   ]
  },
  {
   "cell_type": "code",
   "execution_count": 15,
   "id": "5b1c61c5-0e1c-4c78-b66d-d7797a9b18d4",
   "metadata": {},
   "outputs": [],
   "source": [
    "df = rf_predictions"
   ]
  },
  {
   "cell_type": "code",
   "execution_count": 19,
   "id": "30edabcf-00b7-42ea-a992-30988cdcc580",
   "metadata": {},
   "outputs": [
    {
     "name": "stderr",
     "output_type": "stream",
     "text": [
      "                                                                                \r"
     ]
    },
    {
     "name": "stdout",
     "output_type": "stream",
     "text": [
      "True Positives: 2158142\n",
      "True Negatives: 2323317\n",
      "False Positives: 56405\n",
      "False Negatives: 47344\n"
     ]
    },
    {
     "name": "stderr",
     "output_type": "stream",
     "text": [
      "[Stage 31:===================================================>      (8 + 1) / 9]\r"
     ]
    },
    {
     "name": "stdout",
     "output_type": "stream",
     "text": [
      "Total 4584989\n",
      "recall 0.97853352957126\n",
      "precision 0.9745297796795462\n"
     ]
    },
    {
     "name": "stderr",
     "output_type": "stream",
     "text": [
      "                                                                                \r"
     ]
    }
   ],
   "source": [
    "tp = df[(df.DEATH == 1) & (df.prediction == 1)].count()\n",
    "tn = df[(df.DEATH == 0) & (df.prediction == 0)].count()\n",
    "fp = df[(df.DEATH == 0) & (df.prediction == 1)].count()\n",
    "fn = df[(df.DEATH == 1) & (df.prediction == 0)].count()\n",
    "print (\"True Positives:\", tp)\n",
    "print (\"True Negatives:\", tn)\n",
    "print (\"False Positives:\", fp)\n",
    "print (\"False Negatives:\", fn)\n",
    "print (\"Total\", df.count())\n",
    "\n",
    "r = float(tp)/(tp + fn)\n",
    "print (\"recall\", r)\n",
    "\n",
    "p = float(tp) / (tp + fp)\n",
    "print (\"precision\", p)"
   ]
  },
  {
   "cell_type": "code",
   "execution_count": null,
   "id": "fb882ede-2670-4f13-bce4-8966a6df223f",
   "metadata": {},
   "outputs": [],
   "source": [
    "confusion matrix :\n",
    "    \n",
    "[[2158142  47344\n",
    "  56405.  2323317]]"
   ]
  },
  {
   "cell_type": "code",
   "execution_count": null,
   "id": "1a60d98d-93c7-45cf-9c54-0362b501e205",
   "metadata": {},
   "outputs": [],
   "source": [
    "rf_predictions"
   ]
  },
  {
   "cell_type": "code",
   "execution_count": 26,
   "id": "d1797e5b-9357-4646-9372-9c4867ca0b40",
   "metadata": {},
   "outputs": [],
   "source": [
    "# lrModel.save(spark,\"gs://covid531/\")"
   ]
  },
  {
   "cell_type": "code",
   "execution_count": 27,
   "id": "f06f62ad-024f-42cc-aca7-e19f2cc30a5f",
   "metadata": {},
   "outputs": [
    {
     "name": "stderr",
     "output_type": "stream",
     "text": [
      "                                                                                \r"
     ]
    }
   ],
   "source": [
    "lrModel.write().overwrite().save(\"gs://covid531/model12.pkl\")"
   ]
  },
  {
   "cell_type": "code",
   "execution_count": null,
   "id": "a48a40f1-4db2-40de-99c1-0198aa9f0004",
   "metadata": {},
   "outputs": [],
   "source": []
  }
 ],
 "metadata": {
  "kernelspec": {
   "display_name": "PySpark",
   "language": "python",
   "name": "pyspark"
  },
  "language_info": {
   "codemirror_mode": {
    "name": "ipython",
    "version": 3
   },
   "file_extension": ".py",
   "mimetype": "text/x-python",
   "name": "python",
   "nbconvert_exporter": "python",
   "pygments_lexer": "ipython3",
   "version": "3.8.15"
  }
 },
 "nbformat": 4,
 "nbformat_minor": 5
}